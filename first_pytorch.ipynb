{
  "nbformat": 4,
  "nbformat_minor": 0,
  "metadata": {
    "colab": {
      "name": "first_pytorch.ipynb",
      "provenance": [],
      "toc_visible": true,
      "authorship_tag": "ABX9TyNdPUXHZxFpnZOsxFOZ56Cx",
      "include_colab_link": true
    },
    "kernelspec": {
      "name": "python3",
      "display_name": "Python 3"
    },
    "accelerator": "GPU"
  },
  "cells": [
    {
      "cell_type": "markdown",
      "metadata": {
        "id": "view-in-github",
        "colab_type": "text"
      },
      "source": [
        "<a href=\"https://colab.research.google.com/github/shoiTK/deep_learning_with_pytorch/blob/main/first_pytorch.ipynb\" target=\"_parent\"><img src=\"https://colab.research.google.com/assets/colab-badge.svg\" alt=\"Open In Colab\"/></a>"
      ]
    },
    {
      "cell_type": "code",
      "metadata": {
        "id": "YtT5pY_s1e6m"
      },
      "source": [
        "from __future__ import print_function　#旧バージョンで新バージョンのモジュールを使用するため\n",
        "import torch"
      ],
      "execution_count": 2,
      "outputs": []
    },
    {
      "cell_type": "markdown",
      "metadata": {
        "id": "thyWqubX44v5"
      },
      "source": [
        "# Getting start"
      ]
    },
    {
      "cell_type": "code",
      "metadata": {
        "id": "t1EqqTsx155N",
        "outputId": "b32a6ad4-1db2-49f4-885c-4e6dcd8f1741",
        "colab": {
          "base_uri": "https://localhost:8080/"
        }
      },
      "source": [
        "x = torch.empty(5, 3)\n",
        "print(x)"
      ],
      "execution_count": 4,
      "outputs": [
        {
          "output_type": "stream",
          "text": [
            "tensor([[4.0462e-36, 0.0000e+00, 1.6675e-43],\n",
            "        [5.6052e-44, 1.6816e-43, 6.1657e-44],\n",
            "        [4.4842e-44, 1.6956e-43, 6.1657e-44],\n",
            "        [4.4842e-44, 1.7096e-43, 5.7453e-44],\n",
            "        [0.0000e+00, 0.0000e+00, 0.0000e+00]])\n"
          ],
          "name": "stdout"
        }
      ]
    },
    {
      "cell_type": "code",
      "metadata": {
        "id": "lZAYtp4P4WBc",
        "outputId": "07f2f68a-38a6-4c46-a921-3947dbeb25fe",
        "colab": {
          "base_uri": "https://localhost:8080/"
        }
      },
      "source": [
        "x = torch.rand(5, 3)\n",
        "print(x)"
      ],
      "execution_count": 5,
      "outputs": [
        {
          "output_type": "stream",
          "text": [
            "tensor([[0.3087, 0.3605, 0.1189],\n",
            "        [0.6216, 0.2037, 0.0188],\n",
            "        [0.6899, 0.8007, 0.8313],\n",
            "        [0.3534, 0.8866, 0.1053],\n",
            "        [0.9833, 0.8949, 0.3242]])\n"
          ],
          "name": "stdout"
        }
      ]
    },
    {
      "cell_type": "code",
      "metadata": {
        "id": "QfXpj-pU4d7Q",
        "outputId": "cd5b1f0c-50a7-40ab-f462-81f8b9d892ab",
        "colab": {
          "base_uri": "https://localhost:8080/"
        }
      },
      "source": [
        "x = torch.zeros(5, 3, dtype=torch.long)\n",
        "x = torch.zeros(5, 3)\n",
        "print(x)"
      ],
      "execution_count": 12,
      "outputs": [
        {
          "output_type": "stream",
          "text": [
            "tensor([[0., 0., 0.],\n",
            "        [0., 0., 0.],\n",
            "        [0., 0., 0.],\n",
            "        [0., 0., 0.],\n",
            "        [0., 0., 0.]])\n"
          ],
          "name": "stdout"
        }
      ]
    },
    {
      "cell_type": "code",
      "metadata": {
        "id": "G5vdmNFP5T0v",
        "outputId": "b8250307-3e8e-4443-9e74-8b2ae785bed3",
        "colab": {
          "base_uri": "https://localhost:8080/"
        }
      },
      "source": [
        "x = torch.tensor([5, 3])\n",
        "print(x)"
      ],
      "execution_count": 10,
      "outputs": [
        {
          "output_type": "stream",
          "text": [
            "tensor([5, 3])\n"
          ],
          "name": "stdout"
        }
      ]
    },
    {
      "cell_type": "code",
      "metadata": {
        "id": "sw-S421W5pMS",
        "outputId": "4269c25b-f0d0-46cd-e092-a91e3366c2fa",
        "colab": {
          "base_uri": "https://localhost:8080/"
        }
      },
      "source": [
        "x = x.new_ones(5, 3, dtype=torch.double)\n",
        "print(x)\n",
        "\n",
        "x = torch.rand_like(x, dtype=torch.float)\n",
        "print(x)"
      ],
      "execution_count": 21,
      "outputs": [
        {
          "output_type": "stream",
          "text": [
            "tensor([[1., 1., 1.],\n",
            "        [1., 1., 1.],\n",
            "        [1., 1., 1.],\n",
            "        [1., 1., 1.],\n",
            "        [1., 1., 1.]], dtype=torch.float64)\n",
            "tensor([[0.5474, 0.3750, 0.9432],\n",
            "        [0.7498, 0.1984, 0.5679],\n",
            "        [0.6843, 0.1508, 0.8850],\n",
            "        [0.4232, 0.7671, 0.0973],\n",
            "        [0.9071, 0.6690, 0.0027]])\n"
          ],
          "name": "stdout"
        }
      ]
    },
    {
      "cell_type": "code",
      "metadata": {
        "id": "-L8NY64Q6Yed",
        "outputId": "90e5ab28-a6b1-49a8-9bf0-2e0812f49248",
        "colab": {
          "base_uri": "https://localhost:8080/"
        }
      },
      "source": [
        "x = torch.ones(5, 3)\n",
        "print(x)"
      ],
      "execution_count": 17,
      "outputs": [
        {
          "output_type": "stream",
          "text": [
            "tensor([[1., 1., 1.],\n",
            "        [1., 1., 1.],\n",
            "        [1., 1., 1.],\n",
            "        [1., 1., 1.],\n",
            "        [1., 1., 1.]])\n"
          ],
          "name": "stdout"
        }
      ]
    },
    {
      "cell_type": "code",
      "metadata": {
        "id": "Y56qLtWl6n_C",
        "outputId": "6a506ac8-1b5d-4730-fc79-9638e21fb5ea",
        "colab": {
          "base_uri": "https://localhost:8080/"
        }
      },
      "source": [
        "print(x.size())"
      ],
      "execution_count": 22,
      "outputs": [
        {
          "output_type": "stream",
          "text": [
            "torch.Size([5, 3])\n"
          ],
          "name": "stdout"
        }
      ]
    },
    {
      "cell_type": "code",
      "metadata": {
        "id": "PQvrCmpF7MI2",
        "outputId": "3584711c-caf1-4cb2-fbb5-f55bd2931a78",
        "colab": {
          "base_uri": "https://localhost:8080/"
        }
      },
      "source": [
        "y = torch.rand(5, 3)\n",
        "x = torch.rand(5, 3)\n",
        "print(x, y, x + y, sep='\\n\\n', end='\\n\\n')\n",
        "print(torch.add(x, y))"
      ],
      "execution_count": 36,
      "outputs": [
        {
          "output_type": "stream",
          "text": [
            "tensor([[0.5635, 0.1528, 0.4255],\n",
            "        [0.0629, 0.1170, 0.2707],\n",
            "        [0.9656, 0.8252, 0.4341],\n",
            "        [0.6671, 0.5090, 0.9488],\n",
            "        [0.5554, 0.2093, 0.7504]])\n",
            "\n",
            "tensor([[0.3537, 0.8634, 0.5667],\n",
            "        [0.9911, 0.5249, 0.6322],\n",
            "        [0.6734, 0.7808, 0.2411],\n",
            "        [0.3773, 0.1850, 0.7578],\n",
            "        [0.6197, 0.9374, 0.3652]])\n",
            "\n",
            "tensor([[0.9172, 1.0163, 0.9922],\n",
            "        [1.0540, 0.6419, 0.9030],\n",
            "        [1.6390, 1.6061, 0.6752],\n",
            "        [1.0445, 0.6940, 1.7065],\n",
            "        [1.1751, 1.1466, 1.1156]])\n",
            "\n",
            "tensor([[0.9172, 1.0163, 0.9922],\n",
            "        [1.0540, 0.6419, 0.9030],\n",
            "        [1.6390, 1.6061, 0.6752],\n",
            "        [1.0445, 0.6940, 1.7065],\n",
            "        [1.1751, 1.1466, 1.1156]])\n"
          ],
          "name": "stdout"
        }
      ]
    },
    {
      "cell_type": "code",
      "metadata": {
        "id": "M0nF_b0Y8e9Q",
        "outputId": "be07fad0-5264-4326-c7df-371ce90f07a7",
        "colab": {
          "base_uri": "https://localhost:8080/"
        }
      },
      "source": [
        "result = torch.empty(5, 3)\n",
        "torch.add(x, y, out=result)\n",
        "print(result)"
      ],
      "execution_count": 37,
      "outputs": [
        {
          "output_type": "stream",
          "text": [
            "tensor([[0.9172, 1.0163, 0.9922],\n",
            "        [1.0540, 0.6419, 0.9030],\n",
            "        [1.6390, 1.6061, 0.6752],\n",
            "        [1.0445, 0.6940, 1.7065],\n",
            "        [1.1751, 1.1466, 1.1156]])\n"
          ],
          "name": "stdout"
        }
      ]
    },
    {
      "cell_type": "code",
      "metadata": {
        "id": "rW6Irktz-IPm",
        "outputId": "de3e4b21-dbde-4752-c16c-ebfcefe8f024",
        "colab": {
          "base_uri": "https://localhost:8080/"
        }
      },
      "source": [
        "y.add_(x)\n",
        "print(y)"
      ],
      "execution_count": 39,
      "outputs": [
        {
          "output_type": "stream",
          "text": [
            "tensor([[0.9172, 1.0163, 0.9922],\n",
            "        [1.0540, 0.6419, 0.9030],\n",
            "        [1.6390, 1.6061, 0.6752],\n",
            "        [1.0445, 0.6940, 1.7065],\n",
            "        [1.1751, 1.1466, 1.1156]])\n"
          ],
          "name": "stdout"
        }
      ]
    },
    {
      "cell_type": "code",
      "metadata": {
        "id": "Ry-NmQGZ-OIk",
        "outputId": "7a22b6b7-8266-4c58-c578-a7c1edfa4f2b",
        "colab": {
          "base_uri": "https://localhost:8080/"
        }
      },
      "source": [
        "print(x[:,1])"
      ],
      "execution_count": 40,
      "outputs": [
        {
          "output_type": "stream",
          "text": [
            "tensor([0.1528, 0.1170, 0.8252, 0.5090, 0.2093])\n"
          ],
          "name": "stdout"
        }
      ]
    },
    {
      "cell_type": "code",
      "metadata": {
        "id": "aUaRk8HT-lG_",
        "outputId": "41be7637-b728-491d-c929-90f3052385c6",
        "colab": {
          "base_uri": "https://localhost:8080/"
        }
      },
      "source": [
        "x = torch.randn(4, 4)\n",
        "y = x.view(16)\n",
        "print(y)\n",
        "z = x.view(-1, 8)\n",
        "print(z)"
      ],
      "execution_count": 45,
      "outputs": [
        {
          "output_type": "stream",
          "text": [
            "tensor([ 0.5740, -0.5326, -0.9027, -0.9160, -1.2941,  0.3826, -0.6640, -0.0383,\n",
            "        -0.3631,  0.1357,  1.8956,  0.8531,  0.5251,  1.2199, -2.4411,  0.3651])\n",
            "tensor([[ 0.5740, -0.5326, -0.9027, -0.9160, -1.2941,  0.3826, -0.6640, -0.0383],\n",
            "        [-0.3631,  0.1357,  1.8956,  0.8531,  0.5251,  1.2199, -2.4411,  0.3651]])\n"
          ],
          "name": "stdout"
        }
      ]
    },
    {
      "cell_type": "code",
      "metadata": {
        "id": "cCV8Mqwu_Kp8",
        "outputId": "0969729a-66c5-4336-f73c-768ad1ea3bc4",
        "colab": {
          "base_uri": "https://localhost:8080/"
        }
      },
      "source": [
        "x = torch.randn(1)\n",
        "print(x)\n",
        "print(x.item())"
      ],
      "execution_count": 46,
      "outputs": [
        {
          "output_type": "stream",
          "text": [
            "tensor([0.0155])\n",
            "0.01547191757708788\n"
          ],
          "name": "stdout"
        }
      ]
    },
    {
      "cell_type": "markdown",
      "metadata": {
        "id": "HLQVX-xWAHen"
      },
      "source": [
        "# Numpy Brigde"
      ]
    },
    {
      "cell_type": "code",
      "metadata": {
        "id": "T9h0G233ALVB",
        "outputId": "4e16b739-cf8d-4344-f250-7f4f7e62719f",
        "colab": {
          "base_uri": "https://localhost:8080/"
        }
      },
      "source": [
        "a = torch.ones(5)\n",
        "print(a)"
      ],
      "execution_count": 48,
      "outputs": [
        {
          "output_type": "stream",
          "text": [
            "tensor([1., 1., 1., 1., 1.])\n"
          ],
          "name": "stdout"
        }
      ]
    },
    {
      "cell_type": "code",
      "metadata": {
        "id": "EvSRp3ZnAQ6B"
      },
      "source": [
        ""
      ],
      "execution_count": null,
      "outputs": []
    },
    {
      "cell_type": "code",
      "metadata": {
        "id": "t5SX3vAwAVrW",
        "outputId": "657a49e6-04bf-4afa-90f7-46b0b5b97080",
        "colab": {
          "base_uri": "https://localhost:8080/"
        }
      },
      "source": [
        " b = a.numpy()\n",
        " print(b)"
      ],
      "execution_count": 49,
      "outputs": [
        {
          "output_type": "stream",
          "text": [
            "[1. 1. 1. 1. 1.]\n"
          ],
          "name": "stdout"
        }
      ]
    },
    {
      "cell_type": "code",
      "metadata": {
        "id": "AQUBw3q3AYNQ",
        "outputId": "6b9dda4d-a472-4c3d-a92b-4263787a8cab",
        "colab": {
          "base_uri": "https://localhost:8080/"
        }
      },
      "source": [
        "a.add_(1)\n",
        "print(a, b, sep='\\n')"
      ],
      "execution_count": 50,
      "outputs": [
        {
          "output_type": "stream",
          "text": [
            "tensor([2., 2., 2., 2., 2.])\n",
            "[2. 2. 2. 2. 2.]\n"
          ],
          "name": "stdout"
        }
      ]
    },
    {
      "cell_type": "code",
      "metadata": {
        "id": "rWp-jz63Ah-l",
        "outputId": "7aa02c63-7c95-466d-dd62-e5cf034dc2db",
        "colab": {
          "base_uri": "https://localhost:8080/"
        }
      },
      "source": [
        "import numpy as np\n",
        "a = np.ones(5)\n",
        "b = torch.from_numpy(a)\n",
        "np.add(a, 1, out=a)\n",
        "print(a, b)"
      ],
      "execution_count": 52,
      "outputs": [
        {
          "output_type": "stream",
          "text": [
            "[2. 2. 2. 2. 2.] tensor([2., 2., 2., 2., 2.], dtype=torch.float64)\n"
          ],
          "name": "stdout"
        }
      ]
    },
    {
      "cell_type": "markdown",
      "metadata": {
        "id": "DutrB0bIA-HM"
      },
      "source": [
        "# CUDA tensor"
      ]
    },
    {
      "cell_type": "code",
      "metadata": {
        "id": "Q-7GZ7GMA5Cs",
        "outputId": "a53720af-42cb-4789-b5f3-411d19e739df",
        "colab": {
          "base_uri": "https://localhost:8080/"
        }
      },
      "source": [
        "import torch\n",
        "x = torch.ones(5)\n",
        "if torch.cuda.is_available():\n",
        "  device = torch.device(\"cuda\")\n",
        "  y = torch.ones_like(x, device=device)\n",
        "  x = x.to(device)\n",
        "  z = x + y\n",
        "  print(z)\n",
        "  print(z.to(\"cpu\", torch.double))"
      ],
      "execution_count": 3,
      "outputs": [
        {
          "output_type": "stream",
          "text": [
            "tensor([2., 2., 2., 2., 2.], device='cuda:0')\n",
            "tensor([2., 2., 2., 2., 2.], dtype=torch.float64)\n"
          ],
          "name": "stdout"
        }
      ]
    }
  ]
}