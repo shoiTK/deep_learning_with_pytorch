{
  "nbformat": 4,
  "nbformat_minor": 0,
  "metadata": {
    "colab": {
      "name": "FairMOT.ipynb",
      "provenance": [],
      "collapsed_sections": [],
      "mount_file_id": "1Nb-pXpqex3cKiHHeeL3Rzg7-QC1zvPkw",
      "authorship_tag": "ABX9TyP4rLlBDV57U9b8jGoMI1uk",
      "include_colab_link": true
    },
    "kernelspec": {
      "name": "python3",
      "display_name": "Python 3"
    },
    "accelerator": "GPU"
  },
  "cells": [
    {
      "cell_type": "markdown",
      "metadata": {
        "id": "view-in-github",
        "colab_type": "text"
      },
      "source": [
        "<a href=\"https://colab.research.google.com/github/shoiTK/deep_learning_with_pytorch/blob/main/FairMOT.ipynb\" target=\"_parent\"><img src=\"https://colab.research.google.com/assets/colab-badge.svg\" alt=\"Open In Colab\"/></a>"
      ]
    },
    {
      "cell_type": "markdown",
      "metadata": {
        "id": "qQqWXzuQCRa1"
      },
      "source": [
        "#setting"
      ]
    },
    {
      "cell_type": "code",
      "metadata": {
        "id": "bMYBbuQL7m0t"
      },
      "source": [
        "# コンダの実装\n",
        "!wget -c https://repo.continuum.io/miniconda/Miniconda3-latest-Linux-x86_64.sh\n",
        "!chmod +x Miniconda3-latest-Linux-x86_64.sh\n",
        "!bash ./Miniconda3-latest-Linux-x86_64.sh -b -f -p /usr/local\n",
        "# psi4のインストール\n",
        "!conda install -q -y -c psi4 python=3.6 psi4\n",
        "import sys\n",
        "sys.path.append('/usr/local/lib/python3.6/site-packages/')"
      ],
      "execution_count": null,
      "outputs": []
    },
    {
      "cell_type": "code",
      "metadata": {
        "id": "_MErSlv885Of"
      },
      "source": [
        "!conda info"
      ],
      "execution_count": null,
      "outputs": []
    },
    {
      "cell_type": "code",
      "metadata": {
        "id": "9H_-aWuZB7cT"
      },
      "source": [
        "!unzip fairmot-master.zip"
      ],
      "execution_count": null,
      "outputs": []
    },
    {
      "cell_type": "code",
      "metadata": {
        "colab": {
          "base_uri": "https://localhost:8080/"
        },
        "id": "22ZRzh_uCJHQ",
        "outputId": "cc9cfbcf-f194-465f-efdb-ae86cc2ce224"
      },
      "source": [
        "!git status"
      ],
      "execution_count": 21,
      "outputs": [
        {
          "output_type": "stream",
          "text": [
            "fatal: not a git repository (or any of the parent directories): .git\n"
          ],
          "name": "stdout"
        }
      ]
    },
    {
      "cell_type": "code",
      "metadata": {
        "id": "cjYRYHzRCKqO"
      },
      "source": [
        "!conda create -n FairMOT\n",
        "!conda activate FairMOT\n",
        "!conda install pytorch==1.2.0 torchvision==0.4.0 cudatoolkit=10.0 -c pytorch\n",
        "!pip install -r requirements.txt"
      ],
      "execution_count": null,
      "outputs": []
    },
    {
      "cell_type": "code",
      "metadata": {
        "id": "WYcOrP9sCekX"
      },
      "source": [
        "!git clone https://github.com/CharlesShang/DCNv2\n",
        "%cd DCNv2\n",
        "./make.sh"
      ],
      "execution_count": null,
      "outputs": []
    },
    {
      "cell_type": "code",
      "metadata": {
        "id": "FcD0QFtQDKiB"
      },
      "source": [
        "!./make.sh"
      ],
      "execution_count": null,
      "outputs": []
    },
    {
      "cell_type": "code",
      "metadata": {
        "colab": {
          "base_uri": "https://localhost:8080/"
        },
        "id": "rSJqlRMnDO9Q",
        "outputId": "1d03dc26-48ce-44fa-c074-9c1523b54bbe"
      },
      "source": [
        "%cd ../src/data/"
      ],
      "execution_count": 26,
      "outputs": [
        {
          "output_type": "stream",
          "text": [
            "/content/fairmot-master/src/data\n"
          ],
          "name": "stdout"
        }
      ]
    },
    {
      "cell_type": "code",
      "metadata": {
        "id": "t3xcWCY8FTuv"
      },
      "source": [
        "!mkdir crowdhuman"
      ],
      "execution_count": 27,
      "outputs": []
    },
    {
      "cell_type": "code",
      "metadata": {
        "colab": {
          "base_uri": "https://localhost:8080/"
        },
        "id": "jPJN5oreFZYQ",
        "outputId": "856c2e09-f349-4b4b-8fea-b0fe8d8c3352"
      },
      "source": [
        "%cd crowdhuman/"
      ],
      "execution_count": 28,
      "outputs": [
        {
          "output_type": "stream",
          "text": [
            "/content/fairmot-master/src/data/crowdhuman\n"
          ],
          "name": "stdout"
        }
      ]
    },
    {
      "cell_type": "code",
      "metadata": {
        "id": "mCkJd47kFcDv"
      },
      "source": [
        "!unzip ../../../../drive/MyDrive/CrowdHuman/CrowdHuman_train03.zip -d Image/train/"
      ],
      "execution_count": null,
      "outputs": []
    },
    {
      "cell_type": "code",
      "metadata": {
        "id": "r1pPu5xXHrVh"
      },
      "source": [
        "!cp -pR ./* ../"
      ],
      "execution_count": 44,
      "outputs": []
    },
    {
      "cell_type": "code",
      "metadata": {
        "id": "FVwlUajGJKIk"
      },
      "source": [
        "!rm -R ../Images"
      ],
      "execution_count": 55,
      "outputs": []
    },
    {
      "cell_type": "code",
      "metadata": {
        "id": "6987AHRkLYiL"
      },
      "source": [
        "!unzip ../../../../../../drive/MyDrive/CrowdHuman/CrowdHuman_val.zip -d ../"
      ],
      "execution_count": null,
      "outputs": []
    },
    {
      "cell_type": "code",
      "metadata": {
        "id": "hDSlUFgvLqNp"
      },
      "source": [
        "!cp ../../../../../../drive/MyDrive/CrowdHuman/annotation_val.odgt ../../"
      ],
      "execution_count": 59,
      "outputs": []
    },
    {
      "cell_type": "code",
      "metadata": {
        "colab": {
          "base_uri": "https://localhost:8080/"
        },
        "id": "ueGPIACrM0wW",
        "outputId": "c0af2173-0e97-4ab1-bf14-5fd33094913e"
      },
      "source": [
        "%cd ../../../../"
      ],
      "execution_count": 61,
      "outputs": [
        {
          "output_type": "stream",
          "text": [
            "/content/fairmot-master/src\n"
          ],
          "name": "stdout"
        }
      ]
    },
    {
      "cell_type": "code",
      "metadata": {
        "colab": {
          "base_uri": "https://localhost:8080/"
        },
        "id": "CVsLv3voNQDB",
        "outputId": "935d6c26-9b33-4dd5-d53e-78fdaeef08b9"
      },
      "source": [
        "!python -V"
      ],
      "execution_count": 63,
      "outputs": [
        {
          "output_type": "stream",
          "text": [
            "Python 3.6.12 :: Anaconda, Inc.\n"
          ],
          "name": "stdout"
        }
      ]
    },
    {
      "cell_type": "code",
      "metadata": {
        "colab": {
          "base_uri": "https://localhost:8080/"
        },
        "id": "oObozjbHNnPA",
        "outputId": "016e2507-1da5-4eda-9762-5d3961ae81c6"
      },
      "source": [
        "!pip install cv2"
      ],
      "execution_count": 64,
      "outputs": [
        {
          "output_type": "stream",
          "text": [
            "\u001b[31mERROR: Could not find a version that satisfies the requirement cv2\u001b[0m\n",
            "\u001b[31mERROR: No matching distribution found for cv2\u001b[0m\n"
          ],
          "name": "stdout"
        }
      ]
    },
    {
      "cell_type": "code",
      "metadata": {
        "id": "K2FzW3guN1im"
      },
      "source": [
        "!sudo apt update\n",
        "!sudo apt upgrade"
      ],
      "execution_count": null,
      "outputs": []
    },
    {
      "cell_type": "code",
      "metadata": {
        "id": "2voe11SFOUT_"
      },
      "source": [
        "!sudo apt install libffi-dev libssl-dev openssl"
      ],
      "execution_count": null,
      "outputs": []
    },
    {
      "cell_type": "code",
      "metadata": {
        "colab": {
          "base_uri": "https://localhost:8080/"
        },
        "id": "LscPwD5hOViX",
        "outputId": "4503c1e5-4ad0-430e-b170-8f503c444808"
      },
      "source": [
        "!wget https://www.python.org/ftp/python/3.7.2/Python-3.7.2.tgz "
      ],
      "execution_count": 67,
      "outputs": [
        {
          "output_type": "stream",
          "text": [
            "--2021-01-22 08:33:21--  https://www.python.org/ftp/python/3.7.2/Python-3.7.2.tgz\n",
            "Resolving www.python.org (www.python.org)... 151.101.52.223, 2a04:4e42:d::223\n",
            "Connecting to www.python.org (www.python.org)|151.101.52.223|:443... connected.\n",
            "HTTP request sent, awaiting response... 200 OK\n",
            "Length: 22897802 (22M) [application/octet-stream]\n",
            "Saving to: ‘Python-3.7.2.tgz’\n",
            "\n",
            "Python-3.7.2.tgz    100%[===================>]  21.84M  72.7MB/s    in 0.3s    \n",
            "\n",
            "2021-01-22 08:33:21 (72.7 MB/s) - ‘Python-3.7.2.tgz’ saved [22897802/22897802]\n",
            "\n"
          ],
          "name": "stdout"
        }
      ]
    },
    {
      "cell_type": "code",
      "metadata": {
        "colab": {
          "base_uri": "https://localhost:8080/"
        },
        "id": "RblW9ThPOilo",
        "outputId": "77adbfd3-d181-47aa-c05f-2bf824d51dce"
      },
      "source": [
        "%cd content/"
      ],
      "execution_count": 69,
      "outputs": [
        {
          "output_type": "stream",
          "text": [
            "/content\n"
          ],
          "name": "stdout"
        }
      ]
    },
    {
      "cell_type": "code",
      "metadata": {
        "id": "bwldAbkHOsx_"
      },
      "source": [
        "!tar zxvf Python-3.7.2.tgz\n",
        "%cd Python-3.7.2\n",
        "!./configure\n",
        "!make\n",
        "!sudo make install"
      ],
      "execution_count": null,
      "outputs": []
    },
    {
      "cell_type": "code",
      "metadata": {
        "colab": {
          "base_uri": "https://localhost:8080/"
        },
        "id": "ay_z5_UrO7Ka",
        "outputId": "e45ae674-3fbf-49c1-d4ad-fb896c6ab5a1"
      },
      "source": [
        "!python3 -V"
      ],
      "execution_count": 72,
      "outputs": [
        {
          "output_type": "stream",
          "text": [
            "Python 3.7.2\n"
          ],
          "name": "stdout"
        }
      ]
    },
    {
      "cell_type": "code",
      "metadata": {
        "id": "fsmp6GaqQccD"
      },
      "source": [
        "!sudo pip3 install --upgrade pip\n",
        "!pip3 --version"
      ],
      "execution_count": null,
      "outputs": []
    },
    {
      "cell_type": "code",
      "metadata": {
        "colab": {
          "base_uri": "https://localhost:8080/"
        },
        "id": "zbfQVDKnLpnp",
        "outputId": "706606a5-a82d-4917-c037-e1d2bc1e2a45"
      },
      "source": [
        "!python3 gen_labels_crowd.py"
      ],
      "execution_count": 88,
      "outputs": [
        {
          "output_type": "stream",
          "text": [
            "data/crowdhuman/images/train\n",
            "data/crowdhuman/labels_with_ids/train\n",
            "data/crowdhuman/annotation_train.odgt\n",
            "fpath data/crowdhuman/annotation_train.odgt\n",
            "0\n",
            "1000\n",
            "2000\n",
            "3000\n",
            "4000\n",
            "5000\n",
            "6000\n",
            "7000\n",
            "8000\n",
            "9000\n",
            "10000\n",
            "11000\n",
            "12000\n",
            "13000\n",
            "14000\n",
            "fpath data/crowdhuman/annotation_val.odgt\n",
            "0\n",
            "1000\n",
            "2000\n",
            "3000\n",
            "4000\n"
          ],
          "name": "stdout"
        }
      ]
    },
    {
      "cell_type": "code",
      "metadata": {
        "colab": {
          "base_uri": "https://localhost:8080/"
        },
        "id": "3iqyCZd5Q9lU",
        "outputId": "30cb949b-4b1b-4a52-a2fd-a5765f1f6f51"
      },
      "source": [
        "%cd ../fairmot-master/src/"
      ],
      "execution_count": 83,
      "outputs": [
        {
          "output_type": "stream",
          "text": [
            "[Errno 2] No such file or directory: '../fairmot-master/src/'\n",
            "/content/fairmot-master/src\n"
          ],
          "name": "stdout"
        }
      ]
    },
    {
      "cell_type": "code",
      "metadata": {
        "colab": {
          "base_uri": "https://localhost:8080/"
        },
        "id": "DrspSQA-S7yk",
        "outputId": "be8866ce-fecf-488d-920e-9952f2f97810"
      },
      "source": [
        "!pwd"
      ],
      "execution_count": 82,
      "outputs": [
        {
          "output_type": "stream",
          "text": [
            "/content/fairmot-master/src\n"
          ],
          "name": "stdout"
        }
      ]
    },
    {
      "cell_type": "code",
      "metadata": {
        "colab": {
          "base_uri": "https://localhost:8080/"
        },
        "id": "_o2K8jlnQ-Sl",
        "outputId": "02768b12-62de-4903-94c6-4091537cdf87"
      },
      "source": [
        "!pip3 install cv2"
      ],
      "execution_count": 77,
      "outputs": [
        {
          "output_type": "stream",
          "text": [
            "\u001b[31mERROR: Could not find a version that satisfies the requirement cv2\u001b[0m\n",
            "\u001b[31mERROR: No matching distribution found for cv2\u001b[0m\n"
          ],
          "name": "stdout"
        }
      ]
    },
    {
      "cell_type": "code",
      "metadata": {
        "colab": {
          "base_uri": "https://localhost:8080/"
        },
        "id": "Z_3Pr5BDRHD-",
        "outputId": "67da8e00-8a1d-413d-8f37-67923d290212"
      },
      "source": [
        "!pip3 -V"
      ],
      "execution_count": 78,
      "outputs": [
        {
          "output_type": "stream",
          "text": [
            "pip 20.3.3 from /usr/local/lib/python3.7/site-packages/pip (python 3.7)\n"
          ],
          "name": "stdout"
        }
      ]
    },
    {
      "cell_type": "code",
      "metadata": {
        "colab": {
          "base_uri": "https://localhost:8080/",
          "height": 243
        },
        "id": "CwAVaNWnRK2U",
        "outputId": "874e050e-235b-44c5-bd05-baf7cb8d9288"
      },
      "source": [
        "!pip3 install opencv-python"
      ],
      "execution_count": 79,
      "outputs": [
        {
          "output_type": "stream",
          "text": [
            "Collecting opencv-python\n",
            "  Downloading opencv_python-4.5.1.48-cp37-cp37m-manylinux2014_x86_64.whl (50.4 MB)\n",
            "\u001b[K     |████████████████████████████████| 50.4 MB 16 kB/s \n",
            "\u001b[?25hCollecting numpy>=1.14.5\n",
            "  Downloading numpy-1.19.5-cp37-cp37m-manylinux2010_x86_64.whl (14.8 MB)\n",
            "\u001b[K     |████████████████████████████████| 14.8 MB 149 kB/s \n",
            "\u001b[?25hInstalling collected packages: numpy, opencv-python\n",
            "Successfully installed numpy-1.19.5 opencv-python-4.5.1.48\n"
          ],
          "name": "stdout"
        },
        {
          "output_type": "display_data",
          "data": {
            "application/vnd.colab-display-data+json": {
              "pip_warning": {
                "packages": [
                  "numpy"
                ]
              }
            }
          },
          "metadata": {
            "tags": []
          }
        }
      ]
    },
    {
      "cell_type": "code",
      "metadata": {
        "colab": {
          "base_uri": "https://localhost:8080/"
        },
        "id": "MU-PH4zSRbOk",
        "outputId": "9ccd8122-2e54-497b-e8d8-67e5198c6059"
      },
      "source": [
        "!pwd"
      ],
      "execution_count": 89,
      "outputs": [
        {
          "output_type": "stream",
          "text": [
            "/content/fairmot-master/src\n"
          ],
          "name": "stdout"
        }
      ]
    },
    {
      "cell_type": "code",
      "metadata": {
        "colab": {
          "base_uri": "https://localhost:8080/"
        },
        "id": "n5MkybbWWXbc",
        "outputId": "aa5b3478-ff0d-42f1-f6cc-01bd78177653"
      },
      "source": [
        "%cd ../"
      ],
      "execution_count": 90,
      "outputs": [
        {
          "output_type": "stream",
          "text": [
            "/content/fairmot-master\n"
          ],
          "name": "stdout"
        }
      ]
    },
    {
      "cell_type": "code",
      "metadata": {
        "colab": {
          "base_uri": "https://localhost:8080/"
        },
        "id": "z8r_CH6oWYyy",
        "outputId": "31f48b80-5485-454b-e7db-d61917f2b5c4"
      },
      "source": [
        "!sh experiments/crowdhuman_dla34.sh"
      ],
      "execution_count": 98,
      "outputs": [
        {
          "output_type": "stream",
          "text": [
            "Traceback (most recent call last):\n",
            "  File \"train.py\", line 10, in <module>\n",
            "    import torch\n",
            "ModuleNotFoundError: No module named 'torch'\n"
          ],
          "name": "stdout"
        }
      ]
    },
    {
      "cell_type": "code",
      "metadata": {
        "colab": {
          "base_uri": "https://localhost:8080/"
        },
        "id": "JedYbyZaWbJZ",
        "outputId": "a6cb2619-d02b-4285-d7bd-7bd4c328522d"
      },
      "source": [
        "!pip3 install -r requirements.txt"
      ],
      "execution_count": 93,
      "outputs": [
        {
          "output_type": "stream",
          "text": [
            "Requirement already satisfied: opencv-python in /usr/local/lib/python3.7/site-packages (from -r requirements.txt (line 2)) (4.5.1.48)\n",
            "Collecting cython\n",
            "  Downloading Cython-0.29.21-cp37-cp37m-manylinux1_x86_64.whl (2.0 MB)\n",
            "\u001b[K     |████████████████████████████████| 2.0 MB 8.2 MB/s \n",
            "\u001b[?25hCollecting cython-bbox\n",
            "  Using cached cython_bbox-0.1.3.tar.gz (41 kB)\n",
            "\u001b[31mERROR: Command errored out with exit status 1: python setup.py egg_info Check the logs for full command output.\u001b[0m\n"
          ],
          "name": "stdout"
        }
      ]
    },
    {
      "cell_type": "code",
      "metadata": {
        "colab": {
          "base_uri": "https://localhost:8080/"
        },
        "id": "f70wLWW4XCvy",
        "outputId": "e8b6e55f-9ae4-4a89-db35-1ccad7f3f241"
      },
      "source": [
        "!conda install pytorch==1.2.0 torchvision==0.4.0 cudatoolkit=10.0 -c pytorch"
      ],
      "execution_count": 96,
      "outputs": [
        {
          "output_type": "stream",
          "text": [
            "Collecting package metadata (current_repodata.json): - \b\b\\ \b\b| \b\b/ \b\b- \b\b\\ \b\b| \b\b/ \b\b- \b\b\\ \b\b| \b\b/ \b\b- \b\b\\ \b\bdone\n",
            "Solving environment: / \b\b- \b\b\\ \b\b| \b\b/ \b\b- \b\b\\ \b\b| \b\b/ \b\b- \b\b\\ \b\b| \b\b/ \b\bdone\n",
            "\n",
            "# All requested packages already installed.\n",
            "\n"
          ],
          "name": "stdout"
        }
      ]
    },
    {
      "cell_type": "code",
      "metadata": {
        "colab": {
          "base_uri": "https://localhost:8080/"
        },
        "id": "q4nhLq34WjrM",
        "outputId": "c40e82cf-40dc-4e88-d194-8d2eaf84e0d8"
      },
      "source": [
        "!pip3 install pytorch==1.2.0"
      ],
      "execution_count": 97,
      "outputs": [
        {
          "output_type": "stream",
          "text": [
            "\u001b[31mERROR: Could not find a version that satisfies the requirement pytorch==1.2.0\u001b[0m\n",
            "\u001b[31mERROR: No matching distribution found for pytorch==1.2.0\u001b[0m\n"
          ],
          "name": "stdout"
        }
      ]
    },
    {
      "cell_type": "code",
      "metadata": {
        "id": "N-ZtejxPXX8o"
      },
      "source": [
        ""
      ],
      "execution_count": null,
      "outputs": []
    }
  ]
}